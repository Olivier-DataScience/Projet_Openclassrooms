{
 "cells": [
  {
   "cell_type": "code",
   "execution_count": 1,
   "id": "b25f270b-511c-435a-a0e5-18b16c80957d",
   "metadata": {},
   "outputs": [],
   "source": [
    "import requests\n",
    "import pandas as pd"
   ]
  },
  {
   "cell_type": "code",
   "execution_count": 3,
   "id": "d059ed72-184e-4275-94c3-7364e767f730",
   "metadata": {},
   "outputs": [
    {
     "name": "stdout",
     "output_type": "stream",
     "text": [
      "Extraction réussie, produits trouvés : 10\n"
     ]
    }
   ],
   "source": [
    "# Fonction pour récupérer les produits contenant \"champagne\" dans les ingrédients\n",
    "def get_champagne_products():\n",
    "    url = \"https://world.openfoodfacts.org/cgi/search.pl\"\n",
    "    params = {\n",
    "        \"search_terms\": \"champagne\",\n",
    "        \"fields\": \"id,product_name,categories,ingredients_text,image_url\",\n",
    "        \"page_size\": 50, \n",
    "        \"json\": 1\n",
    "    }\n",
    "    \n",
    "    response = requests.get(url, params=params)\n",
    "    \n",
    "    if response.status_code == 200:\n",
    "        data = response.json()\n",
    "        products = data.get(\"products\", [])\n",
    "        \n",
    "        extracted_data = []\n",
    "        for product in products:\n",
    "            ingredients = product.get(\"ingredients_text\", \"\")\n",
    "\n",
    "            # Vérification que \"champagne\" est bien présent dans les ingrédients\n",
    "            if ingredients and \"champagne\" in ingredients.lower():\n",
    "                extracted_data.append({\n",
    "                    \"foodId\": product.get(\"id\", \"N/A\"),\n",
    "                    \"label\": product.get(\"product_name\", \"N/A\"),\n",
    "                    \"category\": product.get(\"categories\", \"N/A\"),\n",
    "                    \"foodContentsLabel\": ingredients,\n",
    "                    \"image\": product.get(\"image_url\", \"N/A\")\n",
    "                })\n",
    "        \n",
    "        return extracted_data[:10]\n",
    "    else:\n",
    "        print(\"Erreur lors de la requête API, code:\", response.status_code)\n",
    "        return []\n",
    "\n",
    "# Exécution du script\n",
    "products = get_champagne_products()\n",
    "if products:\n",
    "    df = pd.DataFrame(products)\n",
    "    df.to_csv(\"champagne_products2.csv\", index=False)\n",
    "    print(\"Extraction réussie, produits trouvés :\", len(products))\n",
    "else:\n",
    "    print(\"Aucun produit contenant 'champagne' dans les ingrédients trouvé.\")"
   ]
  },
  {
   "cell_type": "markdown",
   "id": "874503b3-d9b5-4664-9867-5ddb9dd90601",
   "metadata": {},
   "source": [
    "Respect RGPD :\n",
    "\n",
    "    Transparence :\n",
    "\n",
    "        On récupère des données publiques depuis l’API Open Food Facts, une base de données open-source et librement accessible.\n",
    "        On ne collecte pas de données personnelles (aucune information sur des individus).\n",
    "\n",
    "    Limitation des finalités :\n",
    "\n",
    "        API clairement défini pour extraire des produits contenant \"champagne\" dans leurs ingrédients.\n",
    "        L'API ne détourne pas la finalité des données en les utilisant pour autre chose.\n",
    "\n",
    "    Minimisation des données :\n",
    "\n",
    "        Il récupère uniquement 5 champs (id, product_name, categories, ingredients_text, image_url).\n",
    "        Pas de collecte excessive ou inutile d’informations .\n",
    "\n",
    "    Exactitude des données\n",
    "\n",
    "        On interroge l’API en temps réel, garantissant des données à jour.\n",
    "        On ne stocke pas les données en dur.\n",
    "\n",
    "    Limitation de la conservation\n",
    "\n",
    "        On génère un fichier CSV temporaire (champagne_products2.csv).\n",
    "        On ne stocke pas les données à long terme ni en base de données."
   ]
  }
 ],
 "metadata": {
  "kernelspec": {
   "display_name": "Python 3 (ipykernel)",
   "language": "python",
   "name": "python3"
  },
  "language_info": {
   "codemirror_mode": {
    "name": "ipython",
    "version": 3
   },
   "file_extension": ".py",
   "mimetype": "text/x-python",
   "name": "python",
   "nbconvert_exporter": "python",
   "pygments_lexer": "ipython3",
   "version": "3.12.4"
  }
 },
 "nbformat": 4,
 "nbformat_minor": 5
}
